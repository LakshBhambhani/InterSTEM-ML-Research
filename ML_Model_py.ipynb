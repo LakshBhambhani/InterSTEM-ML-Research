{
  "nbformat": 4,
  "nbformat_minor": 0,
  "metadata": {
    "colab": {
      "name": "ML Model.py",
      "provenance": []
    },
    "kernelspec": {
      "name": "python3",
      "display_name": "Python 3"
    },
    "accelerator": "GPU"
  },
  "cells": [
    {
      "cell_type": "markdown",
      "metadata": {
        "id": "5TEZF7Uluiup"
      },
      "source": [
        "CNN"
      ]
    },
    {
      "cell_type": "code",
      "metadata": {
        "id": "7w1iMyv_sNgV",
        "colab": {
          "base_uri": "https://localhost:8080/",
          "height": 654
        },
        "outputId": "a8d72046-00ba-4ec4-df6c-0d0798593b69"
      },
      "source": [
        "from keras.datasets import mnist\r\n",
        "\r\n",
        "!wget https://raw.githubusercontent.com/LakshBhambhani/InterSTEM-ML-Research/main/LungCancerDetection/data/train/image_1000078.jpg?token=AMXHCDEMC6JMOILCOR6YBU273552Y\r\n",
        "#download mnist data and split into train and test sets\r\n",
        "(X_train, y_train), (X_test, y_test) = mnist.load_data()\r\n",
        "\r\n",
        "import matplotlib.pyplot as plt\r\n",
        "\r\n",
        "#plot the first image in the dataset\r\n",
        "\r\n",
        "plt.imshow(X_train[7])\r\n",
        "\r\n",
        "#check image shape\r\n",
        "X_train[0].shape\r\n",
        "\r\n",
        "#reshape data to fit model\r\n",
        "X_train = X_train.reshape(60000,28,28,1)\r\n",
        "X_test = X_test.reshape(10000,28,28,1)\r\n",
        "\r\n",
        "from keras.utils import to_categorical\r\n",
        "\r\n",
        "#one-hot encode target column\r\n",
        "y_train = to_categorical(y_train)\r\n",
        "y_test = to_categorical(y_test)\r\n",
        "\r\n",
        "y_train[0]\r\n",
        "\r\n",
        "from keras.models import Sequential\r\n",
        "from keras.layers import Dense, Conv2D, Flatten\r\n",
        "#create model\r\n",
        "model = Sequential()\r\n",
        "\r\n",
        "#add model layers\r\n",
        "model.add(Conv2D(64, kernel_size = 3, activation = 'relu', input_shape = (28,28,1)))\r\n",
        "model.add(Conv2D(32, kernel_size = 3, activation = 'relu'))\r\n",
        "model.add(Flatten())\r\n",
        "model.add(Dense(10, activation = 'softmax'))\r\n",
        "\r\n",
        "#compile model using accuracy to measure model performance\r\n",
        "\r\n",
        "model.compile(optimizer='adam',loss = 'categorical_crossentropy', metrics=['accuracy'])\r\n",
        "#train the model\r\n",
        "model.fit(X_train, y_train, validation_data=(X_test, y_test), epochs = 3 )\r\n",
        "\r\n",
        "#predict first 4 images in the test set\r\n",
        "model.predict(X_test[:4])\r\n",
        "#actual results for first 4 images in test set\r\n",
        "y_test[:4]\r\n",
        "\r\n"
      ],
      "execution_count": 13,
      "outputs": [
        {
          "output_type": "stream",
          "text": [
            "--2020-12-13 16:28:39--  https://raw.githubusercontent.com/LakshBhambhani/InterSTEM-ML-Research/main/LungCancerDetection/data/train/image_1000078.jpg?token=AMXHCDEMC6JMOILCOR6YBU273552Y\n",
            "Resolving raw.githubusercontent.com (raw.githubusercontent.com)... 151.101.0.133, 151.101.64.133, 151.101.128.133, ...\n",
            "Connecting to raw.githubusercontent.com (raw.githubusercontent.com)|151.101.0.133|:443... connected.\n",
            "HTTP request sent, awaiting response... 200 OK\n",
            "Length: 796 [image/jpeg]\n",
            "Saving to: ‘image_1000078.jpg?token=AMXHCDEMC6JMOILCOR6YBU273552Y’\n",
            "\n",
            "\r          image_100   0%[                    ]       0  --.-KB/s               \rimage_1000078.jpg?t 100%[===================>]     796  --.-KB/s    in 0s      \n",
            "\n",
            "2020-12-13 16:28:40 (43.9 MB/s) - ‘image_1000078.jpg?token=AMXHCDEMC6JMOILCOR6YBU273552Y’ saved [796/796]\n",
            "\n",
            "Epoch 1/3\n",
            "1875/1875 [==============================] - 6s 3ms/step - loss: 0.2625 - accuracy: 0.9513 - val_loss: 0.0857 - val_accuracy: 0.9732\n",
            "Epoch 2/3\n",
            "1875/1875 [==============================] - 6s 3ms/step - loss: 0.0684 - accuracy: 0.9800 - val_loss: 0.0725 - val_accuracy: 0.9774\n",
            "Epoch 3/3\n",
            "1875/1875 [==============================] - 6s 3ms/step - loss: 0.0467 - accuracy: 0.9852 - val_loss: 0.1033 - val_accuracy: 0.9722\n",
            "WARNING:tensorflow:6 out of the last 6 calls to <function Model.make_predict_function.<locals>.predict_function at 0x7f5ac29322f0> triggered tf.function retracing. Tracing is expensive and the excessive number of tracings could be due to (1) creating @tf.function repeatedly in a loop, (2) passing tensors with different shapes, (3) passing Python objects instead of tensors. For (1), please define your @tf.function outside of the loop. For (2), @tf.function has experimental_relax_shapes=True option that relaxes argument shapes that can avoid unnecessary retracing. For (3), please refer to https://www.tensorflow.org/tutorials/customization/performance#python_or_tensor_args and https://www.tensorflow.org/api_docs/python/tf/function for  more details.\n"
          ],
          "name": "stdout"
        },
        {
          "output_type": "execute_result",
          "data": {
            "text/plain": [
              "array([[0., 0., 0., 0., 0., 0., 0., 1., 0., 0.],\n",
              "       [0., 0., 1., 0., 0., 0., 0., 0., 0., 0.],\n",
              "       [0., 1., 0., 0., 0., 0., 0., 0., 0., 0.],\n",
              "       [1., 0., 0., 0., 0., 0., 0., 0., 0., 0.]], dtype=float32)"
            ]
          },
          "metadata": {
            "tags": []
          },
          "execution_count": 13
        },
        {
          "output_type": "display_data",
          "data": {
            "image/png": "[encoded data removed]",
            "text/plain": [
              "<Figure size 432x288 with 1 Axes>"
            ]
          },
          "metadata": {
            "tags": [],
            "needs_background": "light"
          }
        }
      ]
    }
  ]
}